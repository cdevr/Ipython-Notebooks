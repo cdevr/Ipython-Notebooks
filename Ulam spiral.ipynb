{
 "cells": [
  {
   "cell_type": "code",
   "execution_count": 74,
   "metadata": {
    "collapsed": false
   },
   "outputs": [
    {
     "name": "stdout",
     "output_type": "stream",
     "text": [
      "\u001b[37m256\u001b[0m \u001b[37m255\u001b[0m \u001b[37m254\u001b[0m \u001b[37m253\u001b[0m \u001b[37m252\u001b[0m \u001b[0m251\u001b[0m \u001b[37m250\u001b[0m \u001b[37m249\u001b[0m \u001b[37m248\u001b[0m \u001b[37m247\u001b[0m \u001b[37m246\u001b[0m \u001b[37m245\u001b[0m \u001b[37m244\u001b[0m \u001b[37m243\u001b[0m \u001b[37m242\u001b[0m \u001b[0m241\u001b[0m\n",
      "\u001b[0m197\u001b[0m \u001b[37m196\u001b[0m \u001b[37m195\u001b[0m \u001b[37m194\u001b[0m \u001b[0m193\u001b[0m \u001b[37m192\u001b[0m \u001b[0m191\u001b[0m \u001b[37m190\u001b[0m \u001b[37m189\u001b[0m \u001b[37m188\u001b[0m \u001b[37m187\u001b[0m \u001b[37m186\u001b[0m \u001b[37m185\u001b[0m \u001b[37m184\u001b[0m \u001b[37m183\u001b[0m \u001b[37m240\u001b[0m\n",
      "\u001b[37m198\u001b[0m \u001b[37m145\u001b[0m \u001b[37m144\u001b[0m \u001b[37m143\u001b[0m \u001b[37m142\u001b[0m \u001b[37m141\u001b[0m \u001b[37m140\u001b[0m \u001b[0m139\u001b[0m \u001b[37m138\u001b[0m \u001b[0m137\u001b[0m \u001b[37m136\u001b[0m \u001b[37m135\u001b[0m \u001b[37m134\u001b[0m \u001b[37m133\u001b[0m \u001b[37m182\u001b[0m \u001b[0m239\u001b[0m\n",
      "\u001b[0m199\u001b[0m \u001b[37m146\u001b[0m \u001b[0m101\u001b[0m \u001b[37m100\u001b[0m \u001b[37m 99\u001b[0m \u001b[37m 98\u001b[0m \u001b[0m 97\u001b[0m \u001b[37m 96\u001b[0m \u001b[37m 95\u001b[0m \u001b[37m 94\u001b[0m \u001b[37m 93\u001b[0m \u001b[37m 92\u001b[0m \u001b[37m 91\u001b[0m \u001b[37m132\u001b[0m \u001b[0m181\u001b[0m \u001b[37m238\u001b[0m\n",
      "\u001b[37m200\u001b[0m \u001b[37m147\u001b[0m \u001b[37m102\u001b[0m \u001b[37m 65\u001b[0m \u001b[37m 64\u001b[0m \u001b[37m 63\u001b[0m \u001b[37m 62\u001b[0m \u001b[0m 61\u001b[0m \u001b[37m 60\u001b[0m \u001b[0m 59\u001b[0m \u001b[37m 58\u001b[0m \u001b[37m 57\u001b[0m \u001b[37m 90\u001b[0m \u001b[0m131\u001b[0m \u001b[37m180\u001b[0m \u001b[37m237\u001b[0m\n",
      "\u001b[37m201\u001b[0m \u001b[37m148\u001b[0m \u001b[0m103\u001b[0m \u001b[37m 66\u001b[0m \u001b[0m 37\u001b[0m \u001b[37m 36\u001b[0m \u001b[37m 35\u001b[0m \u001b[37m 34\u001b[0m \u001b[37m 33\u001b[0m \u001b[37m 32\u001b[0m \u001b[0m 31\u001b[0m \u001b[37m 56\u001b[0m \u001b[0m 89\u001b[0m \u001b[37m130\u001b[0m \u001b[0m179\u001b[0m \u001b[37m236\u001b[0m\n",
      "\u001b[37m202\u001b[0m \u001b[0m149\u001b[0m \u001b[37m104\u001b[0m \u001b[0m 67\u001b[0m \u001b[37m 38\u001b[0m \u001b[0m 17\u001b[0m \u001b[37m 16\u001b[0m \u001b[37m 15\u001b[0m \u001b[37m 14\u001b[0m \u001b[0m 13\u001b[0m \u001b[37m 30\u001b[0m \u001b[37m 55\u001b[0m \u001b[37m 88\u001b[0m \u001b[37m129\u001b[0m \u001b[37m178\u001b[0m \u001b[37m235\u001b[0m\n",
      "\u001b[37m203\u001b[0m \u001b[37m150\u001b[0m \u001b[37m105\u001b[0m \u001b[37m 68\u001b[0m \u001b[37m 39\u001b[0m \u001b[37m 18\u001b[0m \u001b[0m  5\u001b[0m \u001b[37m  4\u001b[0m \u001b[0m  3\u001b[0m \u001b[37m 12\u001b[0m \u001b[0m 29\u001b[0m \u001b[37m 54\u001b[0m \u001b[37m 87\u001b[0m \u001b[37m128\u001b[0m \u001b[37m177\u001b[0m \u001b[37m234\u001b[0m\n",
      "\u001b[37m204\u001b[0m \u001b[0m151\u001b[0m \u001b[37m106\u001b[0m \u001b[37m 69\u001b[0m \u001b[37m 40\u001b[0m \u001b[0m 19\u001b[0m \u001b[37m  6\u001b[0m \u001b[37m  1\u001b[0m \u001b[0m  2\u001b[0m \u001b[0m 11\u001b[0m \u001b[37m 28\u001b[0m \u001b[0m 53\u001b[0m \u001b[37m 86\u001b[0m \u001b[0m127\u001b[0m \u001b[37m176\u001b[0m \u001b[0m233\u001b[0m\n",
      "\u001b[37m205\u001b[0m \u001b[37m152\u001b[0m \u001b[0m107\u001b[0m \u001b[37m 70\u001b[0m \u001b[0m 41\u001b[0m \u001b[37m 20\u001b[0m \u001b[0m  7\u001b[0m \u001b[37m  8\u001b[0m \u001b[37m  9\u001b[0m \u001b[37m 10\u001b[0m \u001b[37m 27\u001b[0m \u001b[37m 52\u001b[0m \u001b[37m 85\u001b[0m \u001b[37m126\u001b[0m \u001b[37m175\u001b[0m \u001b[37m232\u001b[0m\n",
      "\u001b[37m206\u001b[0m \u001b[37m153\u001b[0m \u001b[37m108\u001b[0m \u001b[0m 71\u001b[0m \u001b[37m 42\u001b[0m \u001b[37m 21\u001b[0m \u001b[37m 22\u001b[0m \u001b[0m 23\u001b[0m \u001b[37m 24\u001b[0m \u001b[37m 25\u001b[0m \u001b[37m 26\u001b[0m \u001b[37m 51\u001b[0m \u001b[37m 84\u001b[0m \u001b[37m125\u001b[0m \u001b[37m174\u001b[0m \u001b[37m231\u001b[0m\n",
      "\u001b[37m207\u001b[0m \u001b[37m154\u001b[0m \u001b[0m109\u001b[0m \u001b[37m 72\u001b[0m \u001b[0m 43\u001b[0m \u001b[37m 44\u001b[0m \u001b[37m 45\u001b[0m \u001b[37m 46\u001b[0m \u001b[0m 47\u001b[0m \u001b[37m 48\u001b[0m \u001b[37m 49\u001b[0m \u001b[37m 50\u001b[0m \u001b[0m 83\u001b[0m \u001b[37m124\u001b[0m \u001b[0m173\u001b[0m \u001b[37m230\u001b[0m\n",
      "\u001b[37m208\u001b[0m \u001b[37m155\u001b[0m \u001b[37m110\u001b[0m \u001b[0m 73\u001b[0m \u001b[37m 74\u001b[0m \u001b[37m 75\u001b[0m \u001b[37m 76\u001b[0m \u001b[37m 77\u001b[0m \u001b[37m 78\u001b[0m \u001b[0m 79\u001b[0m \u001b[37m 80\u001b[0m \u001b[37m 81\u001b[0m \u001b[37m 82\u001b[0m \u001b[37m123\u001b[0m \u001b[37m172\u001b[0m \u001b[0m229\u001b[0m\n",
      "\u001b[37m209\u001b[0m \u001b[37m156\u001b[0m \u001b[37m111\u001b[0m \u001b[37m112\u001b[0m \u001b[0m113\u001b[0m \u001b[37m114\u001b[0m \u001b[37m115\u001b[0m \u001b[37m116\u001b[0m \u001b[37m117\u001b[0m \u001b[37m118\u001b[0m \u001b[37m119\u001b[0m \u001b[37m120\u001b[0m \u001b[37m121\u001b[0m \u001b[37m122\u001b[0m \u001b[37m171\u001b[0m \u001b[37m228\u001b[0m\n",
      "\u001b[37m210\u001b[0m \u001b[0m157\u001b[0m \u001b[37m158\u001b[0m \u001b[37m159\u001b[0m \u001b[37m160\u001b[0m \u001b[37m161\u001b[0m \u001b[37m162\u001b[0m \u001b[0m163\u001b[0m \u001b[37m164\u001b[0m \u001b[37m165\u001b[0m \u001b[37m166\u001b[0m \u001b[0m167\u001b[0m \u001b[37m168\u001b[0m \u001b[37m169\u001b[0m \u001b[37m170\u001b[0m \u001b[0m227\u001b[0m\n",
      "\u001b[0m211\u001b[0m \u001b[37m212\u001b[0m \u001b[37m213\u001b[0m \u001b[37m214\u001b[0m \u001b[37m215\u001b[0m \u001b[37m216\u001b[0m \u001b[37m217\u001b[0m \u001b[37m218\u001b[0m \u001b[37m219\u001b[0m \u001b[37m220\u001b[0m \u001b[37m221\u001b[0m \u001b[37m222\u001b[0m \u001b[0m223\u001b[0m \u001b[37m224\u001b[0m \u001b[37m225\u001b[0m \u001b[37m226\u001b[0m\n"
     ]
    }
   ],
   "source": [
    "up = 1\n",
    "right = 2\n",
    "down = 3\n",
    "left = 4\n",
    "\n",
    "def prime(x):\n",
    "    if x < 2:\n",
    "        return False\n",
    "    for a in range(2,((x+1) / 2)+1):\n",
    "        if x%a == 0:\n",
    "            return False\n",
    "    return True\n",
    "\n",
    "def nextDir(dr):\n",
    "    if dr == up:\n",
    "        return left\n",
    "    if dr == left:\n",
    "        return down\n",
    "    if dr == down:\n",
    "        return right\n",
    "    if dr == right:\n",
    "        return up\n",
    "\n",
    "def move(c, dr):\n",
    "    x, y = c\n",
    "    if dr == up:\n",
    "        return (x, y-1)\n",
    "    if dr == left:\n",
    "        return (x-1, y)\n",
    "    if dr == down:\n",
    "        return (x, y+1)\n",
    "    if dr == right:\n",
    "        return (x+1, y)\n",
    "\n",
    "pos = (1,1)\n",
    "c_dir = right\n",
    "c_dir_cnt = 1\n",
    "c_dir_cnt_flip = 1\n",
    "\n",
    "moves = 1\n",
    "stop_moves = 256\n",
    "\n",
    "offset = (6,7)\n",
    "fill = (16, 16)\n",
    "lines = []\n",
    "for i in range(fill[0]):\n",
    "    lines.append([0] * fill[1])\n",
    "\n",
    "def putAt(c, n):\n",
    "    x, y = c\n",
    "    x += offset[0]\n",
    "    y += offset[1]\n",
    "    lines[y][x] = n\n",
    "    \n",
    "putAt((1,1), 1)\n",
    "while moves < stop_moves:\n",
    "    for i in range(c_dir_cnt):\n",
    "        if moves >= stop_moves:\n",
    "            break\n",
    "        pos = move(pos, c_dir)\n",
    "        moves += 1\n",
    "        putAt(pos, moves)\n",
    "    c_dir = nextDir(c_dir)\n",
    "    c_dir_cnt_flip -= 1\n",
    "    if c_dir_cnt_flip < 0:\n",
    "        c_dir_cnt += 1\n",
    "        c_dir_cnt_flip = 1\n",
    "        \n",
    "for l in lines:\n",
    "    print \" \".join(['\\x1b[37m', '\\x1b[0m'][prime(x)] +'%3.d\\x1b[0m' % x for x in l)"
   ]
  },
  {
   "cell_type": "code",
   "execution_count": null,
   "metadata": {
    "collapsed": true
   },
   "outputs": [],
   "source": []
  }
 ],
 "metadata": {
  "kernelspec": {
   "display_name": "Python 2",
   "language": "python",
   "name": "python2"
  },
  "language_info": {
   "codemirror_mode": {
    "name": "ipython",
    "version": 2
   },
   "file_extension": ".py",
   "mimetype": "text/x-python",
   "name": "python",
   "nbconvert_exporter": "python",
   "pygments_lexer": "ipython2",
   "version": "2.7.6"
  }
 },
 "nbformat": 4,
 "nbformat_minor": 0
}
